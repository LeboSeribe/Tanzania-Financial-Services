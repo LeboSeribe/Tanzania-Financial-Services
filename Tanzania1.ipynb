{
 "cells": [
  {
   "cell_type": "markdown",
   "metadata": {},
   "source": [
    "# Tanzanian financial services"
   ]
  },
  {
   "cell_type": "markdown",
   "metadata": {},
   "source": [
    "### Setting up the notebook"
   ]
  },
  {
   "cell_type": "code",
   "execution_count": 1,
   "metadata": {},
   "outputs": [],
   "source": [
    "import pandas as pd\n",
    "import matplotlib.pyplot as plt\n",
    "%matplotlib inline\n",
    "import seaborn as sns\n",
    "import folium"
   ]
  },
  {
   "cell_type": "markdown",
   "metadata": {},
   "source": [
    "### Importing  data"
   ]
  },
  {
   "cell_type": "code",
   "execution_count": 2,
   "metadata": {},
   "outputs": [],
   "source": [
    "training_data = pd.read_csv('training.csv')"
   ]
  },
  {
   "cell_type": "code",
   "execution_count": 3,
   "metadata": {},
   "outputs": [],
   "source": [
    "training_data=training_data.rename(columns ={'Q1':'Age','Q2':'Gender','Q3':'Marital_status','Q4':'Level_of_education',\n",
    "                               'Q5':'Land_ownership','Q6':'Other_land_ownership','Q7':'Owning_a_mobile_phone',\n",
    "                               'Q9':'Employer','Q10':'Product_sold','Q11':'Service_provided','Q13':'sending_money_out_date'\n",
    "                               ,'Q15':'recent_date_money_recieved','Q14':'cash_recieved_non_domestically','Q16':'purchasing_frequency_for_using_mobile_money'\n",
    "                               ,'Q17':'bill_frequency_for_using_mobile_money','Q18':'Literacy_in_Kiswhahili','Q19':'English_literacy',\n",
    "                                             'Q8_1':'Salaries',\"Q8_2\":'Trading','Q8_3':'Service','Q8_4':'Casual_work','Q8_5':'Rental','Q8_6':'Interest',\n",
    "                                             'Q8_7':'Pension','Q8_8':'Social_welfare','Q8_9':'Dependent','Q8_10':'Dont_get_money','Q8_11':'Other'\n",
    "                              })"
   ]
  },
  {
   "cell_type": "markdown",
   "metadata": {},
   "source": [
    "## 1.Missing values"
   ]
  },
  {
   "cell_type": "code",
   "execution_count": 4,
   "metadata": {},
   "outputs": [
    {
     "data": {
      "text/plain": [
       "<matplotlib.axes._subplots.AxesSubplot at 0x7f6dd6510850>"
      ]
     },
     "execution_count": 4,
     "metadata": {},
     "output_type": "execute_result"
    },
    {
     "data": {
      "image/png": "[encoded data removed]",
      "text/plain": [
       "<Figure size 432x288 with 1 Axes>"
      ]
     },
     "metadata": {
      "needs_background": "light"
     },
     "output_type": "display_data"
    }
   ],
   "source": [
    "sns.heatmap(training_data.isnull(),yticklabels=False,cbar=False,cmap='viridis')"
   ]
  },
  {
   "cell_type": "markdown",
   "metadata": {},
   "source": [
    "*From the above heatmap, the data has no missing variables.*"
   ]
  },
  {
   "cell_type": "markdown",
   "metadata": {},
   "source": [
    "## 2.Getting descriptive data"
   ]
  },
  {
   "cell_type": "code",
   "execution_count": 5,
   "metadata": {},
   "outputs": [
    {
     "data": {
      "text/html": [
       "<div>\n",
       "<style scoped>\n",
       "    .dataframe tbody tr th:only-of-type {\n",
       "        vertical-align: middle;\n",
       "    }\n",
       "\n",
       "    .dataframe tbody tr th {\n",
       "        vertical-align: top;\n",
       "    }\n",
       "\n",
       "    .dataframe thead th {\n",
       "        text-align: right;\n",
       "    }\n",
       "</style>\n",
       "<table border=\"1\" class=\"dataframe\">\n",
       "  <thead>\n",
       "    <tr style=\"text-align: right;\">\n",
       "      <th></th>\n",
       "      <th>ID</th>\n",
       "      <th>Age</th>\n",
       "      <th>Gender</th>\n",
       "      <th>Marital_status</th>\n",
       "      <th>Level_of_education</th>\n",
       "      <th>Land_ownership</th>\n",
       "      <th>Other_land_ownership</th>\n",
       "      <th>Owning_a_mobile_phone</th>\n",
       "      <th>Salaries</th>\n",
       "      <th>Trading</th>\n",
       "      <th>...</th>\n",
       "      <th>bill_frequency_for_using_mobile_money</th>\n",
       "      <th>Literacy_in_Kiswhahili</th>\n",
       "      <th>English_literacy</th>\n",
       "      <th>Latitude</th>\n",
       "      <th>Longitude</th>\n",
       "      <th>mobile_money</th>\n",
       "      <th>savings</th>\n",
       "      <th>borrowing</th>\n",
       "      <th>insurance</th>\n",
       "      <th>mobile_money_classification</th>\n",
       "    </tr>\n",
       "  </thead>\n",
       "  <tbody>\n",
       "    <tr>\n",
       "      <td>count</td>\n",
       "      <td>7094.000000</td>\n",
       "      <td>7094.000000</td>\n",
       "      <td>7094.000000</td>\n",
       "      <td>7094.000000</td>\n",
       "      <td>7094.000000</td>\n",
       "      <td>7094.000000</td>\n",
       "      <td>7094.000000</td>\n",
       "      <td>7094.000000</td>\n",
       "      <td>7094.000000</td>\n",
       "      <td>7094.000000</td>\n",
       "      <td>...</td>\n",
       "      <td>7094.000000</td>\n",
       "      <td>7094.000000</td>\n",
       "      <td>7094.000000</td>\n",
       "      <td>7094.000000</td>\n",
       "      <td>7094.000000</td>\n",
       "      <td>7094.000000</td>\n",
       "      <td>7094.000000</td>\n",
       "      <td>7094.000000</td>\n",
       "      <td>7094.000000</td>\n",
       "      <td>7094.000000</td>\n",
       "    </tr>\n",
       "    <tr>\n",
       "      <td>mean</td>\n",
       "      <td>4742.627291</td>\n",
       "      <td>38.239498</td>\n",
       "      <td>1.559910</td>\n",
       "      <td>1.787426</td>\n",
       "      <td>3.060051</td>\n",
       "      <td>2.548915</td>\n",
       "      <td>1.840569</td>\n",
       "      <td>1.397942</td>\n",
       "      <td>0.062165</td>\n",
       "      <td>0.630110</td>\n",
       "      <td>...</td>\n",
       "      <td>-0.431914</td>\n",
       "      <td>1.860164</td>\n",
       "      <td>3.163378</td>\n",
       "      <td>-6.034378</td>\n",
       "      <td>35.354029</td>\n",
       "      <td>0.553989</td>\n",
       "      <td>0.461517</td>\n",
       "      <td>0.432901</td>\n",
       "      <td>0.151255</td>\n",
       "      <td>1.799267</td>\n",
       "    </tr>\n",
       "    <tr>\n",
       "      <td>std</td>\n",
       "      <td>2731.120086</td>\n",
       "      <td>16.332148</td>\n",
       "      <td>0.496433</td>\n",
       "      <td>1.165160</td>\n",
       "      <td>1.557779</td>\n",
       "      <td>1.534257</td>\n",
       "      <td>0.366103</td>\n",
       "      <td>0.489508</td>\n",
       "      <td>0.241472</td>\n",
       "      <td>0.482809</td>\n",
       "      <td>...</td>\n",
       "      <td>1.489879</td>\n",
       "      <td>1.351372</td>\n",
       "      <td>1.317691</td>\n",
       "      <td>2.720888</td>\n",
       "      <td>2.899511</td>\n",
       "      <td>0.497112</td>\n",
       "      <td>0.498552</td>\n",
       "      <td>0.495512</td>\n",
       "      <td>0.358322</td>\n",
       "      <td>1.196955</td>\n",
       "    </tr>\n",
       "    <tr>\n",
       "      <td>min</td>\n",
       "      <td>1.000000</td>\n",
       "      <td>16.000000</td>\n",
       "      <td>1.000000</td>\n",
       "      <td>1.000000</td>\n",
       "      <td>1.000000</td>\n",
       "      <td>1.000000</td>\n",
       "      <td>1.000000</td>\n",
       "      <td>1.000000</td>\n",
       "      <td>0.000000</td>\n",
       "      <td>0.000000</td>\n",
       "      <td>...</td>\n",
       "      <td>-1.000000</td>\n",
       "      <td>1.000000</td>\n",
       "      <td>1.000000</td>\n",
       "      <td>-11.467463</td>\n",
       "      <td>29.639578</td>\n",
       "      <td>0.000000</td>\n",
       "      <td>0.000000</td>\n",
       "      <td>0.000000</td>\n",
       "      <td>0.000000</td>\n",
       "      <td>0.000000</td>\n",
       "    </tr>\n",
       "    <tr>\n",
       "      <td>25%</td>\n",
       "      <td>2397.250000</td>\n",
       "      <td>25.000000</td>\n",
       "      <td>1.000000</td>\n",
       "      <td>1.000000</td>\n",
       "      <td>2.000000</td>\n",
       "      <td>1.000000</td>\n",
       "      <td>2.000000</td>\n",
       "      <td>1.000000</td>\n",
       "      <td>0.000000</td>\n",
       "      <td>0.000000</td>\n",
       "      <td>...</td>\n",
       "      <td>-1.000000</td>\n",
       "      <td>1.000000</td>\n",
       "      <td>2.000000</td>\n",
       "      <td>-8.275387</td>\n",
       "      <td>32.935429</td>\n",
       "      <td>0.000000</td>\n",
       "      <td>0.000000</td>\n",
       "      <td>0.000000</td>\n",
       "      <td>0.000000</td>\n",
       "      <td>1.000000</td>\n",
       "    </tr>\n",
       "    <tr>\n",
       "      <td>50%</td>\n",
       "      <td>4744.500000</td>\n",
       "      <td>35.000000</td>\n",
       "      <td>2.000000</td>\n",
       "      <td>1.000000</td>\n",
       "      <td>3.000000</td>\n",
       "      <td>3.000000</td>\n",
       "      <td>2.000000</td>\n",
       "      <td>1.000000</td>\n",
       "      <td>0.000000</td>\n",
       "      <td>1.000000</td>\n",
       "      <td>...</td>\n",
       "      <td>-1.000000</td>\n",
       "      <td>1.000000</td>\n",
       "      <td>4.000000</td>\n",
       "      <td>-6.087854</td>\n",
       "      <td>35.073326</td>\n",
       "      <td>1.000000</td>\n",
       "      <td>0.000000</td>\n",
       "      <td>0.000000</td>\n",
       "      <td>0.000000</td>\n",
       "      <td>2.000000</td>\n",
       "    </tr>\n",
       "    <tr>\n",
       "      <td>75%</td>\n",
       "      <td>7105.000000</td>\n",
       "      <td>48.000000</td>\n",
       "      <td>2.000000</td>\n",
       "      <td>3.000000</td>\n",
       "      <td>3.000000</td>\n",
       "      <td>4.000000</td>\n",
       "      <td>2.000000</td>\n",
       "      <td>2.000000</td>\n",
       "      <td>0.000000</td>\n",
       "      <td>1.000000</td>\n",
       "      <td>...</td>\n",
       "      <td>-1.000000</td>\n",
       "      <td>4.000000</td>\n",
       "      <td>4.000000</td>\n",
       "      <td>-3.517053</td>\n",
       "      <td>38.351815</td>\n",
       "      <td>1.000000</td>\n",
       "      <td>1.000000</td>\n",
       "      <td>1.000000</td>\n",
       "      <td>0.000000</td>\n",
       "      <td>3.000000</td>\n",
       "    </tr>\n",
       "    <tr>\n",
       "      <td>max</td>\n",
       "      <td>9459.000000</td>\n",
       "      <td>100.000000</td>\n",
       "      <td>2.000000</td>\n",
       "      <td>4.000000</td>\n",
       "      <td>8.000000</td>\n",
       "      <td>6.000000</td>\n",
       "      <td>2.000000</td>\n",
       "      <td>2.000000</td>\n",
       "      <td>1.000000</td>\n",
       "      <td>1.000000</td>\n",
       "      <td>...</td>\n",
       "      <td>5.000000</td>\n",
       "      <td>5.000000</td>\n",
       "      <td>5.000000</td>\n",
       "      <td>-1.084000</td>\n",
       "      <td>40.258744</td>\n",
       "      <td>1.000000</td>\n",
       "      <td>1.000000</td>\n",
       "      <td>1.000000</td>\n",
       "      <td>1.000000</td>\n",
       "      <td>3.000000</td>\n",
       "    </tr>\n",
       "  </tbody>\n",
       "</table>\n",
       "<p>8 rows × 37 columns</p>\n",
       "</div>"
      ],
      "text/plain": [
       "                ID          Age       Gender  Marital_status  \\\n",
       "count  7094.000000  7094.000000  7094.000000     7094.000000   \n",
       "mean   4742.627291    38.239498     1.559910        1.787426   \n",
       "std    2731.120086    16.332148     0.496433        1.165160   \n",
       "min       1.000000    16.000000     1.000000        1.000000   \n",
       "25%    2397.250000    25.000000     1.000000        1.000000   \n",
       "50%    4744.500000    35.000000     2.000000        1.000000   \n",
       "75%    7105.000000    48.000000     2.000000        3.000000   \n",
       "max    9459.000000   100.000000     2.000000        4.000000   \n",
       "\n",
       "       Level_of_education  Land_ownership  Other_land_ownership  \\\n",
       "count         7094.000000     7094.000000           7094.000000   \n",
       "mean             3.060051        2.548915              1.840569   \n",
       "std              1.557779        1.534257              0.366103   \n",
       "min              1.000000        1.000000              1.000000   \n",
       "25%              2.000000        1.000000              2.000000   \n",
       "50%              3.000000        3.000000              2.000000   \n",
       "75%              3.000000        4.000000              2.000000   \n",
       "max              8.000000        6.000000              2.000000   \n",
       "\n",
       "       Owning_a_mobile_phone     Salaries      Trading  ...  \\\n",
       "count            7094.000000  7094.000000  7094.000000  ...   \n",
       "mean                1.397942     0.062165     0.630110  ...   \n",
       "std                 0.489508     0.241472     0.482809  ...   \n",
       "min                 1.000000     0.000000     0.000000  ...   \n",
       "25%                 1.000000     0.000000     0.000000  ...   \n",
       "50%                 1.000000     0.000000     1.000000  ...   \n",
       "75%                 2.000000     0.000000     1.000000  ...   \n",
       "max                 2.000000     1.000000     1.000000  ...   \n",
       "\n",
       "       bill_frequency_for_using_mobile_money  Literacy_in_Kiswhahili  \\\n",
       "count                            7094.000000             7094.000000   \n",
       "mean                               -0.431914                1.860164   \n",
       "std                                 1.489879                1.351372   \n",
       "min                                -1.000000                1.000000   \n",
       "25%                                -1.000000                1.000000   \n",
       "50%                                -1.000000                1.000000   \n",
       "75%                                -1.000000                4.000000   \n",
       "max                                 5.000000                5.000000   \n",
       "\n",
       "       English_literacy     Latitude    Longitude  mobile_money      savings  \\\n",
       "count       7094.000000  7094.000000  7094.000000   7094.000000  7094.000000   \n",
       "mean           3.163378    -6.034378    35.354029      0.553989     0.461517   \n",
       "std            1.317691     2.720888     2.899511      0.497112     0.498552   \n",
       "min            1.000000   -11.467463    29.639578      0.000000     0.000000   \n",
       "25%            2.000000    -8.275387    32.935429      0.000000     0.000000   \n",
       "50%            4.000000    -6.087854    35.073326      1.000000     0.000000   \n",
       "75%            4.000000    -3.517053    38.351815      1.000000     1.000000   \n",
       "max            5.000000    -1.084000    40.258744      1.000000     1.000000   \n",
       "\n",
       "         borrowing    insurance  mobile_money_classification  \n",
       "count  7094.000000  7094.000000                  7094.000000  \n",
       "mean      0.432901     0.151255                     1.799267  \n",
       "std       0.495512     0.358322                     1.196955  \n",
       "min       0.000000     0.000000                     0.000000  \n",
       "25%       0.000000     0.000000                     1.000000  \n",
       "50%       0.000000     0.000000                     2.000000  \n",
       "75%       1.000000     0.000000                     3.000000  \n",
       "max       1.000000     1.000000                     3.000000  \n",
       "\n",
       "[8 rows x 37 columns]"
      ]
     },
     "execution_count": 5,
     "metadata": {},
     "output_type": "execute_result"
    }
   ],
   "source": [
    "training_data.describe()"
   ]
  },
  {
   "cell_type": "markdown",
   "metadata": {},
   "source": [
    "*This dataframe contains 7094 rows and 37 columns.\n",
    "There are 7094 ID entries meaning that it is  working with 7094 people.\n",
    "There are 37 series or features that are known about each individual.*\n",
    "*The tabele above shows the mean,standard deviation,minimum,maximum and interquartile ranges for each column.*"
   ]
  },
  {
   "cell_type": "markdown",
   "metadata": {},
   "source": [
    "# Visualization"
   ]
  },
  {
   "cell_type": "markdown",
   "metadata": {},
   "source": [
    "## 3.Financial services accessed."
   ]
  },
  {
   "cell_type": "code",
   "execution_count": 6,
   "metadata": {},
   "outputs": [],
   "source": [
    "dict_name = {0:'no_mobile_and_no_service',1:'no_mobile_atleast_one_service',2:'mobile_only',3:'mobile_and_atleast_one_service'}\n",
    "training_data['mobile_money_classification']=training_data.mobile_money_classification.map(dict_name)"
   ]
  },
  {
   "cell_type": "code",
   "execution_count": 7,
   "metadata": {},
   "outputs": [],
   "source": [
    "dict_name = {-1:'N/A',1:'Yesterday/Today',2:'Past_7_days',3:'Past_30_days',4:'Past_90_days',5:'More_than_90_days_but_less_than_6_months',6:'6_months_or_longer'}\n",
    "training_data['sending_money_out_date']=training_data.sending_money_out_date.map(dict_name)"
   ]
  },
  {
   "cell_type": "code",
   "execution_count": null,
   "metadata": {},
   "outputs": [],
   "source": [
    "dict_name = {-1:'N/A',1:'Yesterday/Today',2:'Past_7_days',3:'Past_30_days',4:'Past_90_days',5:'More_than_90_days_but_less_than_6_months',6:'6_months_or_longer'}\n",
    "training_data['recent_date_money_recieved']=training_data.recent_date_money_recieved.map(dict_name)"
   ]
  },
  {
   "cell_type": "markdown",
   "metadata": {},
   "source": [
    "### mobile_money_classification and Age"
   ]
  },
  {
   "cell_type": "code",
   "execution_count": null,
   "metadata": {},
   "outputs": [],
   "source": [
    "training_data['age_decade']=training_data.Age.apply(lambda x : int(x/10)*10)\n",
    "sns.countplot(x='age_decade',hue='mobile_money_classification',data = training_data)"
   ]
  },
  {
   "cell_type": "markdown",
   "metadata": {},
   "source": [
    "*The age group of 20s and 30s mostly use mobile money and at least one other financial service.*\n",
    "*The reason could be that they have access to mobile devices such as a smart phone.*"
   ]
  },
  {
   "cell_type": "markdown",
   "metadata": {},
   "source": [
    "### mobile_money_classification and Gender"
   ]
  },
  {
   "cell_type": "code",
   "execution_count": null,
   "metadata": {
    "scrolled": true
   },
   "outputs": [],
   "source": [
    "dict_name = {1:'Male',2:'Female'}\n",
    "training_data['Gender']=training_data.Gender.map(dict_name)\n",
    "sns.countplot(x='Gender',hue='mobile_money_classification',data=training_data)"
   ]
  },
  {
   "cell_type": "markdown",
   "metadata": {},
   "source": [
    "*Both genders do use mobile money and at least one other finacial sercive but males use it a bit more than females.*\n",
    "*However females use more mobile money only than males.*"
   ]
  },
  {
   "cell_type": "markdown",
   "metadata": {},
   "source": [
    "### mobile_money_classification and Marital Status"
   ]
  },
  {
   "cell_type": "code",
   "execution_count": null,
   "metadata": {},
   "outputs": [],
   "source": [
    "\n",
    "dict_name = {1:'Married',2:'Divorced',3:'Widowed',4:'Single'}\n",
    "training_data['Marital_status']=training_data.Marital_status.map(dict_name)\n",
    "sns.countplot(x='Marital_status',hue='mobile_money_classification',data=training_data)"
   ]
  },
  {
   "cell_type": "markdown",
   "metadata": {},
   "source": [
    "*Mobile money and at least one other finacial service is mostly used by married people.*"
   ]
  },
  {
   "cell_type": "markdown",
   "metadata": {},
   "source": [
    "### mobile_money_classification  and land ownership"
   ]
  },
  {
   "cell_type": "code",
   "execution_count": null,
   "metadata": {},
   "outputs": [],
   "source": [
    "dict_name = {1:'Yes',2:'No'}\n",
    "training_data['Other_land_ownership']=training_data.Other_land_ownership.map(dict_name)\n",
    "\n",
    "sns.countplot(x='Other_land_ownership',hue='mobile_money_classification',data=training_data)"
   ]
  },
  {
   "cell_type": "markdown",
   "metadata": {},
   "source": [
    "*Most people  who do not own land use mobile money and at least one of the financial services.*"
   ]
  },
  {
   "cell_type": "markdown",
   "metadata": {},
   "source": [
    "### mobile_money_classification  and type of income"
   ]
  },
  {
   "cell_type": "code",
   "execution_count": null,
   "metadata": {},
   "outputs": [],
   "source": [
    "data_frame = training_data[['mobile_money_classification','Latitude','Longitude','sending_money_out_date','Gender','recent_date_money_recieved','Salaries','Trading','Service','Casual_work','Rental','Interest',\n",
    "                                             'Pension','Social_welfare','Dependent','Dont_get_money','Other']].copy()\n",
    "data_frame_melt = data_frame.melt(id_vars=['mobile_money_classification','Latitude','Longitude','sending_money_out_date','Gender','recent_date_money_recieved'])\n",
    "counts=data_frame_melt[data_frame_melt.value==1]\n",
    "sns.countplot(counts.variable,hue= 'mobile_money_classification',data =counts)\n",
    "\n",
    "\n"
   ]
  },
  {
   "cell_type": "markdown",
   "metadata": {},
   "source": [
    "*The source of income that uses mobile_money and at least one other financial service is Trading followed by Casual labor.*"
   ]
  },
  {
   "cell_type": "markdown",
   "metadata": {},
   "source": [
    "## 4.How often the mobile servives are used?"
   ]
  },
  {
   "cell_type": "markdown",
   "metadata": {},
   "source": [
    "### How often using mobile_services and age"
   ]
  },
  {
   "cell_type": "code",
   "execution_count": null,
   "metadata": {},
   "outputs": [],
   "source": [
    "f, axes = plt.subplots(1, 2)\n",
    "sns.countplot(x='age_decade',hue='sending_money_out_date',data=training_data, ax= axes[0])\n",
    "sns.countplot(x='age_decade',hue='recent_date_money_recieved',data=training_data,ax =axes[1])"
   ]
  },
  {
   "cell_type": "markdown",
   "metadata": {},
   "source": [
    "*Most people who sent and recieved money are in the age group of 20s in the past 30 days.*"
   ]
  },
  {
   "cell_type": "markdown",
   "metadata": {},
   "source": [
    "### How often using mobile_services and gender"
   ]
  },
  {
   "cell_type": "code",
   "execution_count": null,
   "metadata": {},
   "outputs": [],
   "source": [
    "f, axes = plt.subplots(1, 2)\n",
    "sns.countplot(x='Gender',hue='sending_money_out_date',data=training_data, ax = axes[0])\n",
    "sns.countplot(x='Gender',hue='recent_date_money_recieved',data=training_data,ax = axes[1])"
   ]
  },
  {
   "cell_type": "markdown",
   "metadata": {},
   "source": [
    "*Most people who sent money are males in the past 30 days.*\n",
    "*Both males and females mostly recieved money in the last 30 days.*"
   ]
  },
  {
   "cell_type": "markdown",
   "metadata": {},
   "source": [
    "### How often using mobile and Maritul status\n"
   ]
  },
  {
   "cell_type": "code",
   "execution_count": null,
   "metadata": {},
   "outputs": [],
   "source": [
    "f, axes = plt.subplots(1, 2)\n",
    "sns.countplot(x='Marital_status',hue='sending_money_out_date',data=training_data,ax=axes[0])\n",
    "sns.countplot(x='Marital_status',hue='recent_date_money_recieved',data=training_data,ax=axes[1])"
   ]
  },
  {
   "cell_type": "markdown",
   "metadata": {},
   "source": [
    "*Mostly married people sent and recieved money in the past 30 days.*"
   ]
  },
  {
   "cell_type": "markdown",
   "metadata": {},
   "source": [
    "### How often using mobile and land ownership"
   ]
  },
  {
   "cell_type": "code",
   "execution_count": null,
   "metadata": {},
   "outputs": [],
   "source": [
    "f, axes = plt.subplots(1, 2)\n",
    "sns.countplot(x='Other_land_ownership',hue='sending_money_out_date',data=training_data,ax=axes[0])\n",
    "sns.countplot(x='Other_land_ownership',hue='recent_date_money_recieved',data=training_data,ax=axes[1])"
   ]
  },
  {
   "cell_type": "markdown",
   "metadata": {},
   "source": [
    "*Mostly people of which do not own land sent and recived money in the past 30 days.*"
   ]
  },
  {
   "cell_type": "markdown",
   "metadata": {},
   "source": [
    "### How often using mobile and type of income"
   ]
  },
  {
   "cell_type": "code",
   "execution_count": null,
   "metadata": {},
   "outputs": [],
   "source": [
    "f, axes = plt.subplots(1, 2)\n",
    "sns.countplot(counts.variable,hue='sending_money_out_date',data=counts,ax=axes[0])\n",
    "sns.countplot(counts.variable,hue= 'recent_date_money_recieved',data =counts,ax=axes[1])"
   ]
  },
  {
   "cell_type": "markdown",
   "metadata": {},
   "source": [
    "*The above plot shows that the type of income that is associated with sending\n",
    "and recieving money frequently is Trading in the past 30 days*"
   ]
  },
  {
   "cell_type": "markdown",
   "metadata": {},
   "source": [
    "## 5.Visual geographic distribution of mobile services "
   ]
  },
  {
   "cell_type": "code",
   "execution_count": null,
   "metadata": {},
   "outputs": [],
   "source": [
    "from folium.plugins import MarkerCluster\n",
    "map_it = folium.Map(location=[-4.460442,29.811396],zoom_start=6)\n",
    "marker_cluster = MarkerCluster().add_to(map_it)\n",
    "geo_data = counts[['Latitude','Longitude','variable']].head(1000)\n",
    "geo_data.head()\n",
    "for i in range(0,len(geo_data)):\n",
    "    folium.Marker(\n",
    "    [geo_data.iloc[i]['Latitude'],\n",
    "     geo_data.iloc[i]['Longitude']\n",
    "     \n",
    "     \n",
    "    \n",
    "    ],popup=geo_data.iloc[i]['variable']\n",
    "    ).add_to(marker_cluster)\n",
    "    \n",
    "map_it.save('Tanzania1')  \n",
    "map_it"
   ]
  },
  {
   "cell_type": "markdown",
   "metadata": {},
   "source": [
    "*The map shows that the use of financial services is mostly distributed\n",
    "around the coast or places where there is water.*"
   ]
  },
  {
   "cell_type": "markdown",
   "metadata": {},
   "source": [
    "## 6.Demographic factors associated with mobile money"
   ]
  },
  {
   "cell_type": "code",
   "execution_count": null,
   "metadata": {},
   "outputs": [],
   "source": [
    "f, axes = plt.subplots(1, 2)\n",
    "sns.countplot(x='Owning_a_mobile_phone',hue='mobile_money_classification',data=training_data,ax=axes[0])\n",
    "sns.countplot(x='Product_sold',data=training_data,ax= axes[1])\n"
   ]
  },
  {
   "cell_type": "markdown",
   "metadata": {},
   "source": [
    "*More people own mobile phones and they use mobile money and at least one other financial service.\n",
    "Most people trade with crops they produce(Agriculture).*"
   ]
  },
  {
   "cell_type": "code",
   "execution_count": null,
   "metadata": {},
   "outputs": [],
   "source": [
    "f, axes = plt.subplots(1, 2)\n",
    "sns.countplot(x='Level_of_education',hue='age_decade',data=training_data,ax= axes[0])\n",
    "sns.countplot(counts.variable,hue='Gender',data=counts,ax = axes[1])"
   ]
  },
  {
   "cell_type": "markdown",
   "metadata": {},
   "source": [
    "*The age group of 20s is mostly educated to the level of tertiary \n",
    "followed by the age group of 30s.\n",
    "Trading in crops is the highest form of trading and males take the lead*"
   ]
  },
  {
   "cell_type": "markdown",
   "metadata": {},
   "source": [
    "## Conclusions about the financial services in Tanzania"
   ]
  },
  {
   "cell_type": "markdown",
   "metadata": {},
   "source": [
    "*The most income comes from Trading\n",
    "and it seems most trading takes place around the coast. The reason behind this\n",
    "could be that most people are involved in agriculture.The mobile money services are \n",
    "mostly used by people who are in their 20s. These are the people who \n",
    "mostly have smartphones that can enable them to use mobile money services.This age group is most likey to be\n",
    "literate and most likey English literate which makes it easier for them to use mobile money.Males use mobile \n",
    "money and at least one other finacial service.The reason for this could be that males are more\n",
    "involved in agriculture than women.\n",
    "Married people use mobile money and one other financial service compared to other marital statuses. \n",
    "The reason behind this could be that they have to send money to their spouses and children.*"
   ]
  },
  {
   "cell_type": "code",
   "execution_count": null,
   "metadata": {},
   "outputs": [],
   "source": []
  }
 ],
 "metadata": {
  "kernelspec": {
   "display_name": "Python 3",
   "language": "python",
   "name": "python3"
  },
  "language_info": {
   "codemirror_mode": {
    "name": "ipython",
    "version": 3
   },
   "file_extension": ".py",
   "mimetype": "text/x-python",
   "name": "python",
   "nbconvert_exporter": "python",
   "pygments_lexer": "ipython3",
   "version": "3.7.4"
  }
 },
 "nbformat": 4,
 "nbformat_minor": 2
}
